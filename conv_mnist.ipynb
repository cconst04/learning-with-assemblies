{
 "cells": [
  {
   "cell_type": "code",
   "execution_count": 270,
   "id": "e757fdb4",
   "metadata": {},
   "outputs": [],
   "source": [
    "import pickle\n",
    "import numpy as np\n",
    "import matplotlib.pyplot as plt\n",
    "import pandas as pd\n",
    "from matplotlib import cm\n",
    "import seaborn as sns\n",
    "import torch\n",
    "from torch import optim, nn\n",
    "from torchvision import models, transforms\n",
    "from torch.utils.data import TensorDataset, DataLoader\n",
    "from torch.autograd import Variable\n",
    "from torch.nn.functional import one_hot\n",
    "import torch.nn.functional as F\n",
    "from sklearn.metrics import ConfusionMatrixDisplay\n",
    "rng = np.random.default_rng()"
   ]
  },
  {
   "cell_type": "code",
   "execution_count": 256,
   "id": "7e5a477c",
   "metadata": {},
   "outputs": [],
   "source": [
    "n_examples = 500\n",
    "test_size = 1000\n",
    "extra_rounds = 100\n",
    "selected_classes = [i for i in range(10)]\n",
    "\n",
    "train_path = \"./data/mnist_train.csv\"\n",
    "test_path = \"./data/mnist_test.csv\"\n",
    "\n",
    "#Note -- place your own MNIST files in the appropriate directory\n",
    "train_data = np.loadtxt(train_path, delimiter=',')\n",
    "test_data = np.loadtxt(test_path, delimiter=',')\n",
    "# In[3]:\n",
    "\n",
    "\n",
    "train_imgs = train_data[:, 1:]\n",
    "test_imgs = test_data[:, 1:]\n",
    "train_labels = train_data[:, 0]\n",
    "test_labels = test_data[:, 0]"
   ]
  },
  {
   "cell_type": "code",
   "execution_count": 226,
   "id": "fc22d449",
   "metadata": {},
   "outputs": [
    {
     "data": {
      "text/plain": [
       "CNN(\n",
       "  (conv1): Conv2d(1, 32, kernel_size=(3, 3), stride=(1, 1))\n",
       "  (conv2): Conv2d(32, 64, kernel_size=(3, 3), stride=(1, 1))\n",
       "  (dropout1): Dropout(p=0.25, inplace=False)\n",
       "  (dropout2): Dropout(p=0.5, inplace=False)\n",
       "  (fc1): Linear(in_features=9216, out_features=128, bias=True)\n",
       "  (fc2): Linear(in_features=128, out_features=10, bias=True)\n",
       ")"
      ]
     },
     "execution_count": 226,
     "metadata": {},
     "output_type": "execute_result"
    }
   ],
   "source": [
    "model_path = 'mnist_cnn.pt'\n",
    "class CNN(nn.Module):\n",
    "    def __init__(self):\n",
    "        super(CNN, self).__init__()\n",
    "        self.conv1 = nn.Conv2d(1, 32, 3, 1)\n",
    "        self.conv2 = nn.Conv2d(32, 64, 3, 1)\n",
    "        self.dropout1 = nn.Dropout(0.25)\n",
    "        self.dropout2 = nn.Dropout(0.5)\n",
    "        self.fc1 = nn.Linear(9216, 128)\n",
    "        self.fc2 = nn.Linear(128, 10)\n",
    "\n",
    "    def forward(self, x):\n",
    "        x = self.conv1(x)\n",
    "        x = F.relu(x)\n",
    "        x = self.conv2(x)\n",
    "        x = F.relu(x)\n",
    "        x = F.max_pool2d(x, 2)\n",
    "        x = self.dropout1(x)\n",
    "        embedding = torch.flatten(x, 1)\n",
    "        x = self.fc1(embedding)\n",
    "        x = F.relu(x)\n",
    "        fc1_out = self.dropout2(x)\n",
    "        x = self.fc2(fc1_out)\n",
    "        output = F.log_softmax(x, dim=1)\n",
    "        return output, embedding, fc1_out\n",
    "\n",
    "\n",
    "# Change the device to GPU\n",
    "device = torch.device('cuda:0' if torch.cuda.is_available() else \"cpu\")\n",
    "cnn = CNN()\n",
    "cnn.load_state_dict(torch.load(model_path))\n",
    "cnn.eval()\n",
    "\n"
   ]
  },
  {
   "cell_type": "code",
   "execution_count": 227,
   "id": "ce9a316c",
   "metadata": {},
   "outputs": [],
   "source": [
    "def k_cap(input, cap_size):\n",
    "\toutput = np.zeros_like(input)\n",
    "\tif len(input.shape) == 1:\n",
    "\t\tidx = np.argsort(input)[-cap_size:]\n",
    "\t\toutput[idx] = 1\n",
    "\telse:\n",
    "\t\tidx = np.argsort(input, axis=-1)[:, -cap_size:]\n",
    "\t\tnp.put_along_axis(output, idx, 1, axis=-1)\n",
    "\treturn output"
   ]
  },
  {
   "cell_type": "code",
   "execution_count": 244,
   "id": "cefd1c0c",
   "metadata": {},
   "outputs": [],
   "source": [
    "n_in = 128\n",
    "n_neurons = 2000\n",
    "cap_size = 200\n",
    "sparsity = 0.1\n",
    "n_rounds = 15\n",
    "beta = 1"
   ]
  },
  {
   "cell_type": "code",
   "execution_count": 251,
   "id": "055624f3",
   "metadata": {},
   "outputs": [],
   "source": [
    "from scipy.signal import convolve\n",
    "\n",
    "# for each class load and preprocess 5000 images\n",
    "examples = np.zeros((10, n_examples, n_in))\n",
    "\n",
    "for i in range(10):\n",
    "    tmp = test_imgs[test_labels == i][:n_examples].reshape(-1, 28, 28)\n",
    "    tmp = torch.from_numpy(tmp).unsqueeze_(1)\n",
    "    out, emb, fc1 = cnn(tmp.float())\n",
    "    examples[i] = fc1.detach().numpy()\n",
    "# \texamples[i] = k_cap(convolve(train_imgs[train_labels == i][:n_examples].reshape(-1, 28, 28), np.ones((1, 3, 3)), mode='same').reshape(-1, 28 * 28), cap_size)\n"
   ]
  },
  {
   "cell_type": "code",
   "execution_count": 283,
   "id": "2eddd82e",
   "metadata": {},
   "outputs": [],
   "source": [
    "def train_predict(selected_classes, extra_rounds):\n",
    "    # construct an erdos renyi graph (brain area) and normalize the synaptic weights\n",
    "    mask = (rng.random((n_neurons, n_neurons)) < sparsity) & np.logical_not(np.eye(n_neurons, dtype=bool))\n",
    "    W = np.ones((n_neurons, n_neurons)) * mask\n",
    "    W /= W.sum(axis=0)\n",
    "    # construct the stimulus area\n",
    "    mask_a = rng.random((n_in, n_neurons)) < sparsity\n",
    "    A = np.ones((n_in, n_neurons)) * mask_a\n",
    "    A /= A.sum(axis=0)\n",
    "\n",
    "\n",
    "    W = np.ones_like(W) * mask\n",
    "    A = np.ones_like(A) * mask_a\n",
    "    W /= W.sum(axis=0, keepdims=True)\n",
    "    A /= A.sum(axis=0, keepdims=True)\n",
    "    bias = np.zeros(n_neurons)\n",
    "    b = -1\n",
    "\n",
    "    # for each class show a few samples. After each class is shown renormalize the weights. Training time\n",
    "    overlaps = []\n",
    "    # train phase\n",
    "    activations = np.zeros((10, n_rounds, n_neurons), dtype=int)\n",
    "    act_stimulus = np.zeros((10, n_neurons), dtype=int)\n",
    "    for idx, i in enumerate(selected_classes):\n",
    "        act_h = np.zeros(n_neurons)\n",
    "        tmp = []\n",
    "        class_activations = []\n",
    "        for j in range(n_rounds):\n",
    "            input = examples[i, j].astype(int)\n",
    "            act_h_new = k_cap(act_h @ W + input @ A + bias, cap_size)\n",
    "            # count overlap\n",
    "            assembly_idx = np.where(act_h_new > 0)[0]\n",
    "            # class_activations.append(assembly_idx)\n",
    "            assembly = W[assembly_idx[:,None], assembly_idx[None,:]]\n",
    "            # activations contains which fired in the brain area. Recurrent connection fire and fire from stimuli\n",
    "            activations[i, j] = act_h_new.copy()\n",
    "\n",
    "            A[(input > 0)[:, np.newaxis] & (act_h_new > 0)[np.newaxis, :]] *= 1 + beta\n",
    "            W[(act_h > 0)[:, np.newaxis] & (act_h_new > 0)[np.newaxis, :]] *= 1 + beta\n",
    "            act_h = act_h_new\n",
    "\n",
    "        act_stimulus[i] = k_cap(input @ A, cap_size).astype(int)\n",
    "        overlaps.append(tmp)\n",
    "        bias[act_h > 0] += b\n",
    "        A /= A.sum(axis=0, keepdims=True)\n",
    "        W /= W.sum(axis=0, keepdims=True)\n",
    "\n",
    "    # show again the examples without the bias. Reconfigure misclassified weights\n",
    "    for sample in range(extra_rounds):\n",
    "        class_activations = []\n",
    "        for idx, i in enumerate(selected_classes):\n",
    "            act_h = np.zeros(n_neurons, dtype=int)\n",
    "            for j in range(n_rounds):\n",
    "                input = examples[i, sample]\n",
    "                act_stimulus_new = k_cap(input @ A, cap_size).astype(int)\n",
    "                act_h_new = k_cap(act_h @ W + input @ A, cap_size).astype(int)\n",
    "                assembly_idx = np.where(act_h_new > 0)[0]\n",
    "                assembly = W[assembly_idx[:,None], assembly_idx[None,:]]\n",
    "                overlap = (np.array(act_h, dtype=bool) & np.array(act_h_new, dtype=bool)).sum()\n",
    "                other_class = selected_classes[(idx + 1) % len(selected_classes)]\n",
    "                overlap_curr = act_h_new & activations[i, -1]\n",
    "                overlap_other = act_h_new & activations[other_class, -1]\n",
    "                act_h = act_h_new\n",
    "                # Readjust weights so that the correct assembly will fire and reset activations\n",
    "                if overlap_other.sum() > overlap_curr.sum():\n",
    "# \t\t\t\t\tprint(f'mismatch class:{i}, sample:{sample} round:{j}, overlap_curr:{overlap_curr.sum()}, overlap_other:{overlap_other.sum()}')\n",
    "                    overlap_stimulus_curr = act_stimulus_new & act_stimulus[i]\n",
    "                    overlap_stimulus_other = act_stimulus_new & act_stimulus[other_class]\n",
    "                    remaining_other = act_stimulus[other_class] & ~overlap_stimulus_other\n",
    "                    activated_pixels = np.where(input > 0)[0]\n",
    "                    A[(input > 0)[:, None] & (overlap_stimulus_other > 0)[None, :]] *= 0.9\n",
    "                    A[(input > 0)[:, None] & (remaining_other > 0)[None, :]] *= 0.9\n",
    "                    A[(input > 0)[:, None] & (overlap_stimulus_curr > 0)[None, :]] *= 0.95\n",
    "                    # clear previous winners\n",
    "                    act_h = np.zeros(n_neurons, dtype=int)\n",
    "            A /= A.sum(axis=0, keepdims=True)\n",
    "\n",
    "    # show examples to the trained area and record the activity\n",
    "    # outputs[i][j]: for class i and round j for all 5000 examples show which neurons fired \n",
    "    outputs = np.zeros((10, n_rounds+1, n_examples, n_neurons), dtype=int)\n",
    "    for i in selected_classes:\n",
    "        tmp = []\n",
    "        for j in range(n_rounds):\n",
    "            outputs[i, j+1] = k_cap(outputs[i, j] @ W + examples[i] @ A, cap_size)\n",
    "\n",
    "    confusion_matrix = np.zeros((10, 10), dtype=int)\n",
    "    # make predictions\n",
    "    for idx, actual_class in enumerate(selected_classes):\n",
    "        overlap = np.zeros((10, n_examples, n_neurons), dtype=int)\n",
    "        for testing_class in selected_classes:\n",
    "            overlap[testing_class] = outputs[actual_class, -1] & activations[testing_class, -1]\n",
    "        tmp = overlap.sum(axis=2).reshape(-1)\n",
    "        overlaps_sum = overlap.sum(axis=2)\n",
    "        preds = np.argmax(overlaps_sum, axis=0)[extra_rounds:]\n",
    "        correct  = (preds == actual_class).sum()\n",
    "        hist, _ = np.histogram(preds, bins=np.arange(11))\n",
    "        confusion_matrix[actual_class] = hist\n",
    "# \t\tprint(f'actual_class:{actual_class}, accuracy:{correct}/{n_examples}')\n",
    "    return confusion_matrix"
   ]
  },
  {
   "cell_type": "code",
   "execution_count": 284,
   "id": "940d875a",
   "metadata": {},
   "outputs": [
    {
     "data": {
      "text/plain": [
       "0.905"
      ]
     },
     "execution_count": 284,
     "metadata": {},
     "output_type": "execute_result"
    }
   ],
   "source": [
    "conf_mat = train_predict(selected_classes, 0)\n",
    "accuracy = np.diagonal(conf_mat).sum() / (n_examples * 10)\n",
    "accuracy"
   ]
  },
  {
   "cell_type": "code",
   "execution_count": 285,
   "id": "546a1bc7",
   "metadata": {},
   "outputs": [
    {
     "data": {
      "text/plain": [
       "<sklearn.metrics._plot.confusion_matrix.ConfusionMatrixDisplay at 0x7fdfea94a790>"
      ]
     },
     "execution_count": 285,
     "metadata": {},
     "output_type": "execute_result"
    },
    {
     "data": {
      "image/png": "[encoded data removed]",
      "text/plain": [
       "<Figure size 720x720 with 2 Axes>"
      ]
     },
     "metadata": {
      "needs_background": "light"
     },
     "output_type": "display_data"
    }
   ],
   "source": [
    "fig, ax = plt.subplots(figsize=(10,10))\n",
    "ConfusionMatrixDisplay(confusion_matrix=conf_mat).plot(ax=ax)"
   ]
  }
 ],
 "metadata": {
  "kernelspec": {
   "display_name": "Python 3 (ipykernel)",
   "language": "python",
   "name": "python3"
  },
  "language_info": {
   "codemirror_mode": {
    "name": "ipython",
    "version": 3
   },
   "file_extension": ".py",
   "mimetype": "text/x-python",
   "name": "python",
   "nbconvert_exporter": "python",
   "pygments_lexer": "ipython3",
   "version": "3.9.7"
  }
 },
 "nbformat": 4,
 "nbformat_minor": 5
}
